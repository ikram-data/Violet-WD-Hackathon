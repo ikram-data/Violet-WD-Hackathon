{
 "cells": [
  {
   "cell_type": "markdown",
   "metadata": {},
   "source": [
    "# Libraries"
   ]
  },
  {
   "cell_type": "code",
   "execution_count": 1,
   "metadata": {},
   "outputs": [],
   "source": [
    "import pandas as pd\n",
    "import numpy as np\n",
    "import matplotlib.pyplot as plt\n",
    "import seaborn as sns\n",
    "\n",
    "import re"
   ]
  },
  {
   "cell_type": "markdown",
   "metadata": {},
   "source": [
    "# Data"
   ]
  },
  {
   "cell_type": "code",
   "execution_count": 2,
   "metadata": {},
   "outputs": [],
   "source": [
    "df = pd.read_csv(\"Data/final_gini_hdi.csv\")"
   ]
  },
  {
   "cell_type": "code",
   "execution_count": 3,
   "metadata": {},
   "outputs": [
    {
     "data": {
      "text/html": [
       "<div>\n",
       "<style scoped>\n",
       "    .dataframe tbody tr th:only-of-type {\n",
       "        vertical-align: middle;\n",
       "    }\n",
       "\n",
       "    .dataframe tbody tr th {\n",
       "        vertical-align: top;\n",
       "    }\n",
       "\n",
       "    .dataframe thead th {\n",
       "        text-align: right;\n",
       "    }\n",
       "</style>\n",
       "<table border=\"1\" class=\"dataframe\">\n",
       "  <thead>\n",
       "    <tr style=\"text-align: right;\">\n",
       "      <th></th>\n",
       "      <th>Unnamed: 0</th>\n",
       "      <th>country</th>\n",
       "      <th>country_code</th>\n",
       "      <th>year</th>\n",
       "      <th>continent</th>\n",
       "      <th>world_regions</th>\n",
       "      <th>regime_type</th>\n",
       "      <th>access_elec_percent</th>\n",
       "      <th>gdp</th>\n",
       "      <th>gdp_pc</th>\n",
       "      <th>...</th>\n",
       "      <th>exl_soc</th>\n",
       "      <th>labour_share</th>\n",
       "      <th>suffrage_f_y</th>\n",
       "      <th>domestic_movement</th>\n",
       "      <th>slave</th>\n",
       "      <th>suffrage</th>\n",
       "      <th>v2xeg_eqaccess</th>\n",
       "      <th>Composite_index</th>\n",
       "      <th>Rank</th>\n",
       "      <th>total_population</th>\n",
       "    </tr>\n",
       "  </thead>\n",
       "  <tbody>\n",
       "    <tr>\n",
       "      <th>0</th>\n",
       "      <td>0</td>\n",
       "      <td>Aruba</td>\n",
       "      <td>ABW</td>\n",
       "      <td>2000</td>\n",
       "      <td>North America</td>\n",
       "      <td>Latin America and Caribbean</td>\n",
       "      <td>NaN</td>\n",
       "      <td>91.660398</td>\n",
       "      <td>1.873453e+09</td>\n",
       "      <td>20617.75047</td>\n",
       "      <td>...</td>\n",
       "      <td>NaN</td>\n",
       "      <td>NaN</td>\n",
       "      <td>NaN</td>\n",
       "      <td>NaN</td>\n",
       "      <td>NaN</td>\n",
       "      <td>NaN</td>\n",
       "      <td>NaN</td>\n",
       "      <td>NaN</td>\n",
       "      <td>NaN</td>\n",
       "      <td>90866.0</td>\n",
       "    </tr>\n",
       "    <tr>\n",
       "      <th>1</th>\n",
       "      <td>1</td>\n",
       "      <td>Aruba</td>\n",
       "      <td>ABW</td>\n",
       "      <td>2001</td>\n",
       "      <td>North America</td>\n",
       "      <td>Latin America and Caribbean</td>\n",
       "      <td>NaN</td>\n",
       "      <td>100.000000</td>\n",
       "      <td>1.920112e+09</td>\n",
       "      <td>20670.36701</td>\n",
       "      <td>...</td>\n",
       "      <td>NaN</td>\n",
       "      <td>NaN</td>\n",
       "      <td>NaN</td>\n",
       "      <td>NaN</td>\n",
       "      <td>NaN</td>\n",
       "      <td>NaN</td>\n",
       "      <td>NaN</td>\n",
       "      <td>NaN</td>\n",
       "      <td>NaN</td>\n",
       "      <td>92892.0</td>\n",
       "    </tr>\n",
       "    <tr>\n",
       "      <th>2</th>\n",
       "      <td>2</td>\n",
       "      <td>Aruba</td>\n",
       "      <td>ABW</td>\n",
       "      <td>2002</td>\n",
       "      <td>North America</td>\n",
       "      <td>Latin America and Caribbean</td>\n",
       "      <td>NaN</td>\n",
       "      <td>100.000000</td>\n",
       "      <td>1.941341e+09</td>\n",
       "      <td>20436.88713</td>\n",
       "      <td>...</td>\n",
       "      <td>NaN</td>\n",
       "      <td>NaN</td>\n",
       "      <td>NaN</td>\n",
       "      <td>NaN</td>\n",
       "      <td>NaN</td>\n",
       "      <td>NaN</td>\n",
       "      <td>NaN</td>\n",
       "      <td>NaN</td>\n",
       "      <td>NaN</td>\n",
       "      <td>94992.0</td>\n",
       "    </tr>\n",
       "    <tr>\n",
       "      <th>3</th>\n",
       "      <td>3</td>\n",
       "      <td>Aruba</td>\n",
       "      <td>ABW</td>\n",
       "      <td>2003</td>\n",
       "      <td>North America</td>\n",
       "      <td>Latin America and Caribbean</td>\n",
       "      <td>NaN</td>\n",
       "      <td>100.000000</td>\n",
       "      <td>2.021229e+09</td>\n",
       "      <td>20833.97636</td>\n",
       "      <td>...</td>\n",
       "      <td>NaN</td>\n",
       "      <td>NaN</td>\n",
       "      <td>NaN</td>\n",
       "      <td>NaN</td>\n",
       "      <td>NaN</td>\n",
       "      <td>NaN</td>\n",
       "      <td>NaN</td>\n",
       "      <td>NaN</td>\n",
       "      <td>NaN</td>\n",
       "      <td>97016.0</td>\n",
       "    </tr>\n",
       "    <tr>\n",
       "      <th>4</th>\n",
       "      <td>4</td>\n",
       "      <td>Aruba</td>\n",
       "      <td>ABW</td>\n",
       "      <td>2004</td>\n",
       "      <td>North America</td>\n",
       "      <td>Latin America and Caribbean</td>\n",
       "      <td>NaN</td>\n",
       "      <td>100.000000</td>\n",
       "      <td>2.228492e+09</td>\n",
       "      <td>22568.37499</td>\n",
       "      <td>...</td>\n",
       "      <td>NaN</td>\n",
       "      <td>NaN</td>\n",
       "      <td>NaN</td>\n",
       "      <td>NaN</td>\n",
       "      <td>NaN</td>\n",
       "      <td>NaN</td>\n",
       "      <td>NaN</td>\n",
       "      <td>NaN</td>\n",
       "      <td>NaN</td>\n",
       "      <td>98744.0</td>\n",
       "    </tr>\n",
       "  </tbody>\n",
       "</table>\n",
       "<p>5 rows × 39 columns</p>\n",
       "</div>"
      ],
      "text/plain": [
       "   Unnamed: 0 country country_code  year      continent  \\\n",
       "0           0   Aruba          ABW  2000  North America   \n",
       "1           1   Aruba          ABW  2001  North America   \n",
       "2           2   Aruba          ABW  2002  North America   \n",
       "3           3   Aruba          ABW  2003  North America   \n",
       "4           4   Aruba          ABW  2004  North America   \n",
       "\n",
       "                 world_regions regime_type  access_elec_percent           gdp  \\\n",
       "0  Latin America and Caribbean         NaN            91.660398  1.873453e+09   \n",
       "1  Latin America and Caribbean         NaN           100.000000  1.920112e+09   \n",
       "2  Latin America and Caribbean         NaN           100.000000  1.941341e+09   \n",
       "3  Latin America and Caribbean         NaN           100.000000  2.021229e+09   \n",
       "4  Latin America and Caribbean         NaN           100.000000  2.228492e+09   \n",
       "\n",
       "        gdp_pc  ...  exl_soc  labour_share  suffrage_f_y  domestic_movement  \\\n",
       "0  20617.75047  ...      NaN           NaN           NaN                NaN   \n",
       "1  20670.36701  ...      NaN           NaN           NaN                NaN   \n",
       "2  20436.88713  ...      NaN           NaN           NaN                NaN   \n",
       "3  20833.97636  ...      NaN           NaN           NaN                NaN   \n",
       "4  22568.37499  ...      NaN           NaN           NaN                NaN   \n",
       "\n",
       "  slave  suffrage  v2xeg_eqaccess  Composite_index  Rank  total_population  \n",
       "0   NaN       NaN             NaN              NaN   NaN           90866.0  \n",
       "1   NaN       NaN             NaN              NaN   NaN           92892.0  \n",
       "2   NaN       NaN             NaN              NaN   NaN           94992.0  \n",
       "3   NaN       NaN             NaN              NaN   NaN           97016.0  \n",
       "4   NaN       NaN             NaN              NaN   NaN           98744.0  \n",
       "\n",
       "[5 rows x 39 columns]"
      ]
     },
     "execution_count": 3,
     "metadata": {},
     "output_type": "execute_result"
    }
   ],
   "source": [
    "df.head()"
   ]
  },
  {
   "cell_type": "markdown",
   "metadata": {},
   "source": [
    "## Tidying Up\n",
    "\n",
    "For workability..."
   ]
  },
  {
   "cell_type": "code",
   "execution_count": 4,
   "metadata": {},
   "outputs": [],
   "source": [
    "# Drop unecessary column\n",
    "df.drop(columns = 'Unnamed: 0', inplace=True)"
   ]
  },
  {
   "cell_type": "code",
   "execution_count": 5,
   "metadata": {},
   "outputs": [
    {
     "data": {
      "text/plain": [
       "Index(['country', 'country_code', 'year', 'continent', 'world_regions',\n",
       "       'regime_type', 'access_elec_percent', 'gdp', 'gdp_pc',\n",
       "       'renewable_energy_consumption_percent',\n",
       "       'renewable_energy_output_percent', 'wbl_index_score',\n",
       "       'proportion_women_seats_parliament', 'income_classification',\n",
       "       'percent_using_internet', 'power_soec', 'power_f', 'suffrage_f_x',\n",
       "       'dmr_f', 'new_gini', 'hdi_value', 'gdp_g', 'gdp_pc_g', 'pol_gen',\n",
       "       'exl_gen', 'exl_eco', 'exl_geo', 'exl_pol', 'exl_soc', 'labour_share',\n",
       "       'suffrage_f_y', 'domestic_movement', 'slave', 'suffrage',\n",
       "       'v2xeg_eqaccess', 'Composite_index', 'Rank', 'total_population'],\n",
       "      dtype='object')"
      ]
     },
     "execution_count": 5,
     "metadata": {},
     "output_type": "execute_result"
    }
   ],
   "source": [
    "df.columns"
   ]
  },
  {
   "cell_type": "code",
   "execution_count": 6,
   "metadata": {},
   "outputs": [],
   "source": [
    "df.columns = df.columns.str.lower()\n",
    "#df.columns = df.columns.str.replace(r'([A-Z]){2}\\.([A-Z]){3}\\.([A-Z]){4}\\.([A-Z])+', '', regex=True).str.replace(r'([A-Z]){2}\\.([A-Z]){3}\\.([A-Z]){4}', '', regex=True)\n",
    "#df.columns = df.columns.str.replace('(','').str.replace(')','').str.replace('%', '').str.replace('$', '').str.lower().str.replace(' - ', '').str.replace('  ', '_').str.replace(' ', '_').str.replace('.','_').str.replace(',','')"
   ]
  },
  {
   "cell_type": "code",
   "execution_count": 7,
   "metadata": {},
   "outputs": [
    {
     "data": {
      "text/plain": [
       "Index(['country', 'country_code', 'year', 'continent', 'world_regions',\n",
       "       'regime_type', 'access_elec_percent', 'gdp', 'gdp_pc',\n",
       "       'renewable_energy_consumption_percent',\n",
       "       'renewable_energy_output_percent', 'wbl_index_score',\n",
       "       'proportion_women_seats_parliament', 'income_classification',\n",
       "       'percent_using_internet', 'power_soec', 'power_f', 'suffrage_f_x',\n",
       "       'dmr_f', 'new_gini', 'hdi_value', 'gdp_g', 'gdp_pc_g', 'pol_gen',\n",
       "       'exl_gen', 'exl_eco', 'exl_geo', 'exl_pol', 'exl_soc', 'labour_share',\n",
       "       'suffrage_f_y', 'domestic_movement', 'slave', 'suffrage',\n",
       "       'v2xeg_eqaccess', 'composite_index', 'rank', 'total_population'],\n",
       "      dtype='object')"
      ]
     },
     "execution_count": 7,
     "metadata": {},
     "output_type": "execute_result"
    }
   ],
   "source": [
    "# Check columns\n",
    "df.columns"
   ]
  },
  {
   "cell_type": "markdown",
   "metadata": {},
   "source": [
    "## Actual Cleaning\n",
    "\n",
    "Filling nulls mainly"
   ]
  },
  {
   "cell_type": "code",
   "execution_count": 8,
   "metadata": {},
   "outputs": [
    {
     "data": {
      "text/plain": [
       "country                                    0\n",
       "country_code                               0\n",
       "year                                       0\n",
       "continent                                  2\n",
       "world_regions                              2\n",
       "regime_type                              211\n",
       "access_elec_percent                       94\n",
       "gdp                                       41\n",
       "gdp_pc                                    41\n",
       "renewable_energy_consumption_percent       0\n",
       "renewable_energy_output_percent          516\n",
       "wbl_index_score                           76\n",
       "proportion_women_seats_parliament        225\n",
       "income_classification                      2\n",
       "percent_using_internet                   301\n",
       "power_soec                               190\n",
       "power_f                                  190\n",
       "suffrage_f_x                             190\n",
       "dmr_f                                    190\n",
       "new_gini                                1624\n",
       "hdi_value                                142\n",
       "gdp_g                                    748\n",
       "gdp_pc_g                                 748\n",
       "pol_gen                                  748\n",
       "exl_gen                                  748\n",
       "exl_eco                                  748\n",
       "exl_geo                                  748\n",
       "exl_pol                                  748\n",
       "exl_soc                                  748\n",
       "labour_share                             748\n",
       "suffrage_f_y                             748\n",
       "domestic_movement                        748\n",
       "slave                                    748\n",
       "suffrage                                 748\n",
       "v2xeg_eqaccess                           748\n",
       "composite_index                          748\n",
       "rank                                     748\n",
       "total_population                           7\n",
       "dtype: int64"
      ]
     },
     "execution_count": 8,
     "metadata": {},
     "output_type": "execute_result"
    }
   ],
   "source": [
    "# Check nulls in df\n",
    "df.isnull().sum()"
   ]
  },
  {
   "cell_type": "code",
   "execution_count": 9,
   "metadata": {},
   "outputs": [
    {
     "data": {
      "text/html": [
       "<div>\n",
       "<style scoped>\n",
       "    .dataframe tbody tr th:only-of-type {\n",
       "        vertical-align: middle;\n",
       "    }\n",
       "\n",
       "    .dataframe tbody tr th {\n",
       "        vertical-align: top;\n",
       "    }\n",
       "\n",
       "    .dataframe thead th {\n",
       "        text-align: right;\n",
       "    }\n",
       "</style>\n",
       "<table border=\"1\" class=\"dataframe\">\n",
       "  <thead>\n",
       "    <tr style=\"text-align: right;\">\n",
       "      <th></th>\n",
       "      <th>country</th>\n",
       "      <th>country_code</th>\n",
       "      <th>year</th>\n",
       "      <th>continent</th>\n",
       "      <th>world_regions</th>\n",
       "      <th>regime_type</th>\n",
       "      <th>access_elec_percent</th>\n",
       "      <th>gdp</th>\n",
       "      <th>gdp_pc</th>\n",
       "      <th>renewable_energy_consumption_percent</th>\n",
       "      <th>...</th>\n",
       "      <th>exl_soc</th>\n",
       "      <th>labour_share</th>\n",
       "      <th>suffrage_f_y</th>\n",
       "      <th>domestic_movement</th>\n",
       "      <th>slave</th>\n",
       "      <th>suffrage</th>\n",
       "      <th>v2xeg_eqaccess</th>\n",
       "      <th>composite_index</th>\n",
       "      <th>rank</th>\n",
       "      <th>total_population</th>\n",
       "    </tr>\n",
       "  </thead>\n",
       "  <tbody>\n",
       "    <tr>\n",
       "      <th>2945</th>\n",
       "      <td>Timor-Leste</td>\n",
       "      <td>TLS</td>\n",
       "      <td>2000</td>\n",
       "      <td>NaN</td>\n",
       "      <td>NaN</td>\n",
       "      <td>NaN</td>\n",
       "      <td>NaN</td>\n",
       "      <td>367087900.0</td>\n",
       "      <td>415.085949</td>\n",
       "      <td>0.0</td>\n",
       "      <td>...</td>\n",
       "      <td>NaN</td>\n",
       "      <td>NaN</td>\n",
       "      <td>NaN</td>\n",
       "      <td>NaN</td>\n",
       "      <td>NaN</td>\n",
       "      <td>NaN</td>\n",
       "      <td>NaN</td>\n",
       "      <td>NaN</td>\n",
       "      <td>NaN</td>\n",
       "      <td>884366.0</td>\n",
       "    </tr>\n",
       "    <tr>\n",
       "      <th>2946</th>\n",
       "      <td>Timor-Leste</td>\n",
       "      <td>TLS</td>\n",
       "      <td>2001</td>\n",
       "      <td>NaN</td>\n",
       "      <td>NaN</td>\n",
       "      <td>NaN</td>\n",
       "      <td>25.6</td>\n",
       "      <td>477457500.0</td>\n",
       "      <td>529.793700</td>\n",
       "      <td>0.0</td>\n",
       "      <td>...</td>\n",
       "      <td>NaN</td>\n",
       "      <td>NaN</td>\n",
       "      <td>NaN</td>\n",
       "      <td>NaN</td>\n",
       "      <td>NaN</td>\n",
       "      <td>NaN</td>\n",
       "      <td>NaN</td>\n",
       "      <td>NaN</td>\n",
       "      <td>NaN</td>\n",
       "      <td>901214.0</td>\n",
       "    </tr>\n",
       "  </tbody>\n",
       "</table>\n",
       "<p>2 rows × 38 columns</p>\n",
       "</div>"
      ],
      "text/plain": [
       "          country country_code  year continent world_regions regime_type  \\\n",
       "2945  Timor-Leste          TLS  2000       NaN           NaN         NaN   \n",
       "2946  Timor-Leste          TLS  2001       NaN           NaN         NaN   \n",
       "\n",
       "      access_elec_percent          gdp      gdp_pc  \\\n",
       "2945                  NaN  367087900.0  415.085949   \n",
       "2946                 25.6  477457500.0  529.793700   \n",
       "\n",
       "      renewable_energy_consumption_percent  ...  exl_soc  labour_share  \\\n",
       "2945                                   0.0  ...      NaN           NaN   \n",
       "2946                                   0.0  ...      NaN           NaN   \n",
       "\n",
       "      suffrage_f_y domestic_movement  slave  suffrage  v2xeg_eqaccess  \\\n",
       "2945           NaN               NaN    NaN       NaN             NaN   \n",
       "2946           NaN               NaN    NaN       NaN             NaN   \n",
       "\n",
       "      composite_index  rank  total_population  \n",
       "2945              NaN   NaN          884366.0  \n",
       "2946              NaN   NaN          901214.0  \n",
       "\n",
       "[2 rows x 38 columns]"
      ]
     },
     "execution_count": 9,
     "metadata": {},
     "output_type": "execute_result"
    }
   ],
   "source": [
    "# Check nulls in continent\n",
    "df[df.continent.isnull()]"
   ]
  },
  {
   "cell_type": "code",
   "execution_count": 10,
   "metadata": {},
   "outputs": [
    {
     "data": {
      "text/plain": [
       "array(['North America', 'Africa', 'Europe', 'Asia', 'South America',\n",
       "       'Oceania', nan], dtype=object)"
      ]
     },
     "execution_count": 10,
     "metadata": {},
     "output_type": "execute_result"
    }
   ],
   "source": [
    "# Check unique values in continent\n",
    "df.continent.unique()"
   ]
  },
  {
   "cell_type": "code",
   "execution_count": 11,
   "metadata": {},
   "outputs": [],
   "source": [
    "# Fill nulls in continent\n",
    "df.continent.fillna('Asia', inplace=True)"
   ]
  },
  {
   "cell_type": "code",
   "execution_count": 12,
   "metadata": {},
   "outputs": [
    {
     "data": {
      "text/html": [
       "<div>\n",
       "<style scoped>\n",
       "    .dataframe tbody tr th:only-of-type {\n",
       "        vertical-align: middle;\n",
       "    }\n",
       "\n",
       "    .dataframe tbody tr th {\n",
       "        vertical-align: top;\n",
       "    }\n",
       "\n",
       "    .dataframe thead th {\n",
       "        text-align: right;\n",
       "    }\n",
       "</style>\n",
       "<table border=\"1\" class=\"dataframe\">\n",
       "  <thead>\n",
       "    <tr style=\"text-align: right;\">\n",
       "      <th></th>\n",
       "      <th>country</th>\n",
       "      <th>country_code</th>\n",
       "      <th>year</th>\n",
       "      <th>continent</th>\n",
       "      <th>world_regions</th>\n",
       "      <th>regime_type</th>\n",
       "      <th>access_elec_percent</th>\n",
       "      <th>gdp</th>\n",
       "      <th>gdp_pc</th>\n",
       "      <th>renewable_energy_consumption_percent</th>\n",
       "      <th>...</th>\n",
       "      <th>exl_soc</th>\n",
       "      <th>labour_share</th>\n",
       "      <th>suffrage_f_y</th>\n",
       "      <th>domestic_movement</th>\n",
       "      <th>slave</th>\n",
       "      <th>suffrage</th>\n",
       "      <th>v2xeg_eqaccess</th>\n",
       "      <th>composite_index</th>\n",
       "      <th>rank</th>\n",
       "      <th>total_population</th>\n",
       "    </tr>\n",
       "  </thead>\n",
       "  <tbody>\n",
       "    <tr>\n",
       "      <th>2945</th>\n",
       "      <td>Timor-Leste</td>\n",
       "      <td>TLS</td>\n",
       "      <td>2000</td>\n",
       "      <td>Asia</td>\n",
       "      <td>NaN</td>\n",
       "      <td>NaN</td>\n",
       "      <td>NaN</td>\n",
       "      <td>367087900.0</td>\n",
       "      <td>415.085949</td>\n",
       "      <td>0.0</td>\n",
       "      <td>...</td>\n",
       "      <td>NaN</td>\n",
       "      <td>NaN</td>\n",
       "      <td>NaN</td>\n",
       "      <td>NaN</td>\n",
       "      <td>NaN</td>\n",
       "      <td>NaN</td>\n",
       "      <td>NaN</td>\n",
       "      <td>NaN</td>\n",
       "      <td>NaN</td>\n",
       "      <td>884366.0</td>\n",
       "    </tr>\n",
       "    <tr>\n",
       "      <th>2946</th>\n",
       "      <td>Timor-Leste</td>\n",
       "      <td>TLS</td>\n",
       "      <td>2001</td>\n",
       "      <td>Asia</td>\n",
       "      <td>NaN</td>\n",
       "      <td>NaN</td>\n",
       "      <td>25.6</td>\n",
       "      <td>477457500.0</td>\n",
       "      <td>529.793700</td>\n",
       "      <td>0.0</td>\n",
       "      <td>...</td>\n",
       "      <td>NaN</td>\n",
       "      <td>NaN</td>\n",
       "      <td>NaN</td>\n",
       "      <td>NaN</td>\n",
       "      <td>NaN</td>\n",
       "      <td>NaN</td>\n",
       "      <td>NaN</td>\n",
       "      <td>NaN</td>\n",
       "      <td>NaN</td>\n",
       "      <td>901214.0</td>\n",
       "    </tr>\n",
       "  </tbody>\n",
       "</table>\n",
       "<p>2 rows × 38 columns</p>\n",
       "</div>"
      ],
      "text/plain": [
       "          country country_code  year continent world_regions regime_type  \\\n",
       "2945  Timor-Leste          TLS  2000      Asia           NaN         NaN   \n",
       "2946  Timor-Leste          TLS  2001      Asia           NaN         NaN   \n",
       "\n",
       "      access_elec_percent          gdp      gdp_pc  \\\n",
       "2945                  NaN  367087900.0  415.085949   \n",
       "2946                 25.6  477457500.0  529.793700   \n",
       "\n",
       "      renewable_energy_consumption_percent  ...  exl_soc  labour_share  \\\n",
       "2945                                   0.0  ...      NaN           NaN   \n",
       "2946                                   0.0  ...      NaN           NaN   \n",
       "\n",
       "      suffrage_f_y domestic_movement  slave  suffrage  v2xeg_eqaccess  \\\n",
       "2945           NaN               NaN    NaN       NaN             NaN   \n",
       "2946           NaN               NaN    NaN       NaN             NaN   \n",
       "\n",
       "      composite_index  rank  total_population  \n",
       "2945              NaN   NaN          884366.0  \n",
       "2946              NaN   NaN          901214.0  \n",
       "\n",
       "[2 rows x 38 columns]"
      ]
     },
     "execution_count": 12,
     "metadata": {},
     "output_type": "execute_result"
    }
   ],
   "source": [
    "df[df.world_regions.isnull()]"
   ]
  },
  {
   "cell_type": "code",
   "execution_count": 13,
   "metadata": {},
   "outputs": [
    {
     "data": {
      "text/plain": [
       "2945                               NaN\n",
       "2946                               NaN\n",
       "2947    Eastern and South-Eastern Asia\n",
       "2948    Eastern and South-Eastern Asia\n",
       "2949    Eastern and South-Eastern Asia\n",
       "2950    Eastern and South-Eastern Asia\n",
       "2951    Eastern and South-Eastern Asia\n",
       "2952    Eastern and South-Eastern Asia\n",
       "2953    Eastern and South-Eastern Asia\n",
       "2954    Eastern and South-Eastern Asia\n",
       "2955    Eastern and South-Eastern Asia\n",
       "2956    Eastern and South-Eastern Asia\n",
       "2957    Eastern and South-Eastern Asia\n",
       "2958    Eastern and South-Eastern Asia\n",
       "2959    Eastern and South-Eastern Asia\n",
       "2960    Eastern and South-Eastern Asia\n",
       "2961    Eastern and South-Eastern Asia\n",
       "2962    Eastern and South-Eastern Asia\n",
       "2963    Eastern and South-Eastern Asia\n",
       "Name: world_regions, dtype: object"
      ]
     },
     "execution_count": 13,
     "metadata": {},
     "output_type": "execute_result"
    }
   ],
   "source": [
    "# Check for correct region\n",
    "df[df['country'] == 'Timor-Leste']['world_regions']"
   ]
  },
  {
   "cell_type": "code",
   "execution_count": 14,
   "metadata": {},
   "outputs": [],
   "source": [
    "# Fill nulls in world region\n",
    "df.world_regions.fillna('Eastern and South-Eastern Asia', inplace=True)"
   ]
  },
  {
   "cell_type": "code",
   "execution_count": 15,
   "metadata": {},
   "outputs": [
    {
     "data": {
      "text/plain": [
       "array(['Aruba', 'Antigua and Barbuda', 'Bahamas, The', 'Belize',\n",
       "       'Brunei Darussalam', 'Dominica', 'St. Lucia', 'Macao SAR, China',\n",
       "       'West Bank and Gaza', 'Timor-Leste', 'Tonga',\n",
       "       'St. Vincent and the Grenadines'], dtype=object)"
      ]
     },
     "execution_count": 15,
     "metadata": {},
     "output_type": "execute_result"
    }
   ],
   "source": [
    "# Check which countries have nulls\n",
    "df[df.regime_type.isnull()]['country'].unique()"
   ]
  },
  {
   "cell_type": "code",
   "execution_count": 16,
   "metadata": {},
   "outputs": [
    {
     "data": {
      "text/plain": [
       "array([nan, 'Closed Autocracy', 'Electoral Autocracy',\n",
       "       'Electoral Democracy', 'Liberal Democracy'], dtype=object)"
      ]
     },
     "execution_count": 16,
     "metadata": {},
     "output_type": "execute_result"
    }
   ],
   "source": [
    "# Check unique values for this column\n",
    "df.regime_type.unique()"
   ]
  },
  {
   "cell_type": "code",
   "execution_count": 17,
   "metadata": {},
   "outputs": [],
   "source": [
    "# Get index list for Electoral Democracy countries where regime is null\n",
    "index = df.index\n",
    "\n",
    "condition = (df['country'] == 'Antigua and Barbuda') | (df['country'] == 'Aruba') | (df['country'] == 'Bahamas, The') | (df['country'] == 'Belize') | (df['country'] == 'Dominica') | (df['country'] == 'St. Lucia') | (df['country'] == 'St. Vincent and the Grenadines') | (df['country'] == 'Timor-Leste') & (df['regime_type'].isnull())\n",
    "\n",
    "elecdem_regime = index[condition]"
   ]
  },
  {
   "cell_type": "code",
   "execution_count": 18,
   "metadata": {},
   "outputs": [],
   "source": [
    "# Fill nulls in regime for with Electoral Democracy\n",
    "df.loc[elecdem_regime, 'regime_type'] = df.loc[elecdem_regime, 'regime_type'].fillna('Electoral Democracy')"
   ]
  },
  {
   "cell_type": "code",
   "execution_count": 19,
   "metadata": {},
   "outputs": [],
   "source": [
    "# Get index list for Closed Autocracy countries where regime is null\n",
    "index = df.index\n",
    "\n",
    "condition = (df['country'] == 'Macao SAR, China') | (df['country'] == 'Brunei Darussalam') & (df['regime_type'].isnull())\n",
    "\n",
    "closed_regime = index[condition]"
   ]
  },
  {
   "cell_type": "code",
   "execution_count": 20,
   "metadata": {},
   "outputs": [],
   "source": [
    "# Fill nulls in regime for with Closed Autocracy\n",
    "df.loc[closed_regime, 'regime_type'] = df.loc[closed_regime, 'regime_type'].fillna('Closed Autocracy')"
   ]
  },
  {
   "cell_type": "code",
   "execution_count": 21,
   "metadata": {},
   "outputs": [
    {
     "data": {
      "text/plain": [
       "Eritrea    7\n",
       "Name: country, dtype: int64"
      ]
     },
     "execution_count": 21,
     "metadata": {},
     "output_type": "execute_result"
    }
   ],
   "source": [
    "# Nulls for population were merged into the dataframe\n",
    "# ReCheck remaining nulls\n",
    "df[df['total_population'].isnull()]['country'].value_counts().sort_values(ascending=False)"
   ]
  },
  {
   "cell_type": "markdown",
   "metadata": {},
   "source": [
    "## New CSV"
   ]
  },
  {
   "cell_type": "code",
   "execution_count": 22,
   "metadata": {},
   "outputs": [],
   "source": [
    "## New csv to be used in Tableau\n",
    "#df.to_csv('for_tableau.csv')"
   ]
  }
 ],
 "metadata": {
  "interpreter": {
   "hash": "c37dafaa9f79b1fcde4a2b4e9bf1bbb628a7eae972c0fc5b5def4c97ee839a44"
  },
  "kernelspec": {
   "display_name": "Python 3",
   "language": "python",
   "name": "python3"
  },
  "language_info": {
   "codemirror_mode": {
    "name": "ipython",
    "version": 3
   },
   "file_extension": ".py",
   "mimetype": "text/x-python",
   "name": "python",
   "nbconvert_exporter": "python",
   "pygments_lexer": "ipython3",
   "version": "3.8.5"
  }
 },
 "nbformat": 4,
 "nbformat_minor": 2
}
