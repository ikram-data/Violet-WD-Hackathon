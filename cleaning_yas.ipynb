{
 "cells": [
  {
   "cell_type": "markdown",
   "metadata": {},
   "source": [
    "# Libraries"
   ]
  },
  {
   "cell_type": "code",
   "execution_count": null,
   "metadata": {},
   "outputs": [],
   "source": []
  },
  {
   "cell_type": "code",
   "execution_count": 1,
   "metadata": {},
   "outputs": [],
   "source": [
    "import pandas as pd\n",
    "import numpy as np\n",
    "import matplotlib.pyplot as plt\n",
    "import seaborn as sns\n",
    "\n",
    "import re"
   ]
  },
  {
   "cell_type": "markdown",
   "metadata": {},
   "source": [
    "# Data"
   ]
  },
  {
   "cell_type": "code",
   "execution_count": 58,
   "metadata": {},
   "outputs": [],
   "source": [
    "df = pd.read_csv(\"inequality data.csv\")"
   ]
  },
  {
   "cell_type": "markdown",
   "metadata": {},
   "source": [
    "## Tidying Up\n",
    "\n",
    "For workability..."
   ]
  },
  {
   "cell_type": "code",
   "execution_count": 59,
   "metadata": {},
   "outputs": [],
   "source": [
    "# Drop unecessary column\n",
    "df.drop(columns = 'Unnamed: 0', inplace=True)"
   ]
  },
  {
   "cell_type": "code",
   "execution_count": 60,
   "metadata": {},
   "outputs": [
    {
     "data": {
      "text/plain": [
       "Index(['Country Name', 'Country Code', 'Year', 'Continent',\n",
       "       'World Regions (UN SDG Definition)',\n",
       "       'Regime Type (RoW Measure Definition)',\n",
       "       'Population, total - SP.POP.TOTL',\n",
       "       'Access to electricity (% of population) - EG.ELC.ACCS.ZS',\n",
       "       'GDP (current US$) - NY.GDP.MKTP.CD',\n",
       "       'GDP per capita (current US$) - NY.GDP.PCAP.CD',\n",
       "       'Renewable energy consumption (% of total final energy consumption) - EG.FEC.RNEW.ZS',\n",
       "       'Renewable electricity output (% of total electricity output) - EG.ELC.RNEW.ZS',\n",
       "       'Women Business and the Law Index Score (scale 1-100) - SG.LAW.INDX',\n",
       "       'Proportion of seats held by women in national parliaments (%) - SG.GEN.PARL.ZS',\n",
       "       'Income Classification (World Bank Definition)',\n",
       "       'Individuals using the Internet (% of population) - IT.NET.USER.ZS',\n",
       "       'power_soec', 'power_f', 'suffrage_f', 'dmr_f',\n",
       "       'Gini index (World Bank estimate) - SI.POV.GINI'],\n",
       "      dtype='object')"
      ]
     },
     "execution_count": 60,
     "metadata": {},
     "output_type": "execute_result"
    }
   ],
   "source": [
    "df.columns"
   ]
  },
  {
   "cell_type": "code",
   "execution_count": 61,
   "metadata": {},
   "outputs": [
    {
     "name": "stderr",
     "output_type": "stream",
     "text": [
      "C:\\Users\\Yasmin\\AppData\\Local\\Temp/ipykernel_24872/3604729363.py:3: FutureWarning: The default value of regex will change from True to False in a future version. In addition, single character regular expressions will *not* be treated as literal strings when regex=True.\n",
      "  df.columns = df.columns.str.replace('(','').str.replace(')','').str.replace('%', '').str.replace('$', '').str.lower().str.replace(' - ', '').str.replace('  ', '_').str.replace(' ', '_').str.replace('.','_')\n"
     ]
    }
   ],
   "source": [
    "df.columns = df.columns.str.replace(r'([A-Z]){2}\\.([A-Z]){3}\\.([A-Z]){4}\\.([A-Z])+', '', regex=True).str.replace(r'([A-Z]){2}\\.([A-Z]){3}\\.([A-Z]){4}', '', regex=True)\n",
    "\n",
    "df.columns = df.columns.str.replace('(','').str.replace(')','').str.replace('%', '').str.replace('$', '').str.lower().str.replace(' - ', '').str.replace('  ', '_').str.replace(' ', '_').str.replace('.','_')"
   ]
  },
  {
   "cell_type": "code",
   "execution_count": 62,
   "metadata": {},
   "outputs": [
    {
     "data": {
      "text/plain": [
       "Index(['country_name', 'country_code', 'year', 'continent',\n",
       "       'world_regions_un_sdg_definition', 'regime_type_row_measure_definition',\n",
       "       'population,_total', 'access_to_electricity_of_population',\n",
       "       'gdp_current_us', 'gdp_per_capita_current_us',\n",
       "       'renewable_energy_consumption_of_total_final_energy_consumption',\n",
       "       'renewable_electricity_output_of_total_electricity_output',\n",
       "       'women_business_and_the_law_index_score_scale_1-100',\n",
       "       'proportion_of_seats_held_by_women_in_national_parliaments_',\n",
       "       'income_classification_world_bank_definition',\n",
       "       'individuals_using_the_internet_of_population', 'power_soec', 'power_f',\n",
       "       'suffrage_f', 'dmr_f', 'gini_index_world_bank_estimate'],\n",
       "      dtype='object')"
      ]
     },
     "execution_count": 62,
     "metadata": {},
     "output_type": "execute_result"
    }
   ],
   "source": [
    "# Check columns\n",
    "df.columns"
   ]
  },
  {
   "cell_type": "markdown",
   "metadata": {},
   "source": [
    "## Actual Cleaning\n",
    "\n",
    "Filling nulls mainly"
   ]
  },
  {
   "cell_type": "code",
   "execution_count": 63,
   "metadata": {},
   "outputs": [
    {
     "data": {
      "text/plain": [
       "country_name                                                         0\n",
       "country_code                                                         0\n",
       "year                                                                 0\n",
       "continent                                                            2\n",
       "world_regions_un_sdg_definition                                      2\n",
       "regime_type_row_measure_definition                                 211\n",
       "population,_total                                                  181\n",
       "access_to_electricity_of_population                                 94\n",
       "gdp_current_us                                                      41\n",
       "gdp_per_capita_current_us                                           41\n",
       "renewable_energy_consumption_of_total_final_energy_consumption       0\n",
       "renewable_electricity_output_of_total_electricity_output           516\n",
       "women_business_and_the_law_index_score_scale_1-100                  76\n",
       "proportion_of_seats_held_by_women_in_national_parliaments_         225\n",
       "income_classification_world_bank_definition                          2\n",
       "individuals_using_the_internet_of_population                       301\n",
       "power_soec                                                         190\n",
       "power_f                                                            190\n",
       "suffrage_f                                                         190\n",
       "dmr_f                                                              190\n",
       "gini_index_world_bank_estimate                                    1984\n",
       "dtype: int64"
      ]
     },
     "execution_count": 63,
     "metadata": {},
     "output_type": "execute_result"
    }
   ],
   "source": [
    "# Check nulls in df\n",
    "df.isnull().sum()"
   ]
  },
  {
   "cell_type": "code",
   "execution_count": 64,
   "metadata": {},
   "outputs": [
    {
     "data": {
      "text/html": [
       "<div>\n",
       "<style scoped>\n",
       "    .dataframe tbody tr th:only-of-type {\n",
       "        vertical-align: middle;\n",
       "    }\n",
       "\n",
       "    .dataframe tbody tr th {\n",
       "        vertical-align: top;\n",
       "    }\n",
       "\n",
       "    .dataframe thead th {\n",
       "        text-align: right;\n",
       "    }\n",
       "</style>\n",
       "<table border=\"1\" class=\"dataframe\">\n",
       "  <thead>\n",
       "    <tr style=\"text-align: right;\">\n",
       "      <th></th>\n",
       "      <th>country_name</th>\n",
       "      <th>country_code</th>\n",
       "      <th>year</th>\n",
       "      <th>continent</th>\n",
       "      <th>world_regions_un_sdg_definition</th>\n",
       "      <th>regime_type_row_measure_definition</th>\n",
       "      <th>population,_total</th>\n",
       "      <th>access_to_electricity_of_population</th>\n",
       "      <th>gdp_current_us</th>\n",
       "      <th>gdp_per_capita_current_us</th>\n",
       "      <th>...</th>\n",
       "      <th>renewable_electricity_output_of_total_electricity_output</th>\n",
       "      <th>women_business_and_the_law_index_score_scale_1-100</th>\n",
       "      <th>proportion_of_seats_held_by_women_in_national_parliaments_</th>\n",
       "      <th>income_classification_world_bank_definition</th>\n",
       "      <th>individuals_using_the_internet_of_population</th>\n",
       "      <th>power_soec</th>\n",
       "      <th>power_f</th>\n",
       "      <th>suffrage_f</th>\n",
       "      <th>dmr_f</th>\n",
       "      <th>gini_index_world_bank_estimate</th>\n",
       "    </tr>\n",
       "  </thead>\n",
       "  <tbody>\n",
       "    <tr>\n",
       "      <th>2945</th>\n",
       "      <td>Timor-Leste</td>\n",
       "      <td>TLS</td>\n",
       "      <td>2000</td>\n",
       "      <td>NaN</td>\n",
       "      <td>NaN</td>\n",
       "      <td>NaN</td>\n",
       "      <td>NaN</td>\n",
       "      <td>NaN</td>\n",
       "      <td>367087900.0</td>\n",
       "      <td>415.085949</td>\n",
       "      <td>...</td>\n",
       "      <td>0.0</td>\n",
       "      <td>40.625</td>\n",
       "      <td>NaN</td>\n",
       "      <td>NaN</td>\n",
       "      <td>NaN</td>\n",
       "      <td>-0.200</td>\n",
       "      <td>-0.009</td>\n",
       "      <td>0.0</td>\n",
       "      <td>1.49</td>\n",
       "      <td>NaN</td>\n",
       "    </tr>\n",
       "    <tr>\n",
       "      <th>2946</th>\n",
       "      <td>Timor-Leste</td>\n",
       "      <td>TLS</td>\n",
       "      <td>2001</td>\n",
       "      <td>NaN</td>\n",
       "      <td>NaN</td>\n",
       "      <td>NaN</td>\n",
       "      <td>NaN</td>\n",
       "      <td>25.6</td>\n",
       "      <td>477457500.0</td>\n",
       "      <td>529.793700</td>\n",
       "      <td>...</td>\n",
       "      <td>0.0</td>\n",
       "      <td>40.625</td>\n",
       "      <td>NaN</td>\n",
       "      <td>NaN</td>\n",
       "      <td>NaN</td>\n",
       "      <td>0.314</td>\n",
       "      <td>0.362</td>\n",
       "      <td>0.0</td>\n",
       "      <td>1.49</td>\n",
       "      <td>NaN</td>\n",
       "    </tr>\n",
       "  </tbody>\n",
       "</table>\n",
       "<p>2 rows × 21 columns</p>\n",
       "</div>"
      ],
      "text/plain": [
       "     country_name country_code  year continent  \\\n",
       "2945  Timor-Leste          TLS  2000       NaN   \n",
       "2946  Timor-Leste          TLS  2001       NaN   \n",
       "\n",
       "     world_regions_un_sdg_definition regime_type_row_measure_definition  \\\n",
       "2945                             NaN                                NaN   \n",
       "2946                             NaN                                NaN   \n",
       "\n",
       "      population,_total  access_to_electricity_of_population  gdp_current_us  \\\n",
       "2945                NaN                                  NaN     367087900.0   \n",
       "2946                NaN                                 25.6     477457500.0   \n",
       "\n",
       "      gdp_per_capita_current_us  ...  \\\n",
       "2945                 415.085949  ...   \n",
       "2946                 529.793700  ...   \n",
       "\n",
       "      renewable_electricity_output_of_total_electricity_output  \\\n",
       "2945                                                0.0          \n",
       "2946                                                0.0          \n",
       "\n",
       "      women_business_and_the_law_index_score_scale_1-100  \\\n",
       "2945                                             40.625    \n",
       "2946                                             40.625    \n",
       "\n",
       "      proportion_of_seats_held_by_women_in_national_parliaments_  \\\n",
       "2945                                                NaN            \n",
       "2946                                                NaN            \n",
       "\n",
       "      income_classification_world_bank_definition  \\\n",
       "2945                                          NaN   \n",
       "2946                                          NaN   \n",
       "\n",
       "     individuals_using_the_internet_of_population  power_soec  power_f  \\\n",
       "2945                                          NaN      -0.200   -0.009   \n",
       "2946                                          NaN       0.314    0.362   \n",
       "\n",
       "      suffrage_f  dmr_f  gini_index_world_bank_estimate  \n",
       "2945         0.0   1.49                             NaN  \n",
       "2946         0.0   1.49                             NaN  \n",
       "\n",
       "[2 rows x 21 columns]"
      ]
     },
     "execution_count": 64,
     "metadata": {},
     "output_type": "execute_result"
    }
   ],
   "source": [
    "# Check nulls in continent\n",
    "df[df.continent.isnull()]"
   ]
  },
  {
   "cell_type": "code",
   "execution_count": 65,
   "metadata": {},
   "outputs": [
    {
     "data": {
      "text/plain": [
       "array(['North America', 'Africa', 'Europe', 'Asia', 'South America',\n",
       "       'Oceania', nan], dtype=object)"
      ]
     },
     "execution_count": 65,
     "metadata": {},
     "output_type": "execute_result"
    }
   ],
   "source": [
    "# Check unique values in continent\n",
    "df.continent.unique()"
   ]
  },
  {
   "cell_type": "code",
   "execution_count": 66,
   "metadata": {},
   "outputs": [],
   "source": [
    "# Fill nulls in continent\n",
    "df.continent.fillna('Asia', inplace=True)"
   ]
  },
  {
   "cell_type": "code",
   "execution_count": 69,
   "metadata": {},
   "outputs": [
    {
     "data": {
      "text/html": [
       "<div>\n",
       "<style scoped>\n",
       "    .dataframe tbody tr th:only-of-type {\n",
       "        vertical-align: middle;\n",
       "    }\n",
       "\n",
       "    .dataframe tbody tr th {\n",
       "        vertical-align: top;\n",
       "    }\n",
       "\n",
       "    .dataframe thead th {\n",
       "        text-align: right;\n",
       "    }\n",
       "</style>\n",
       "<table border=\"1\" class=\"dataframe\">\n",
       "  <thead>\n",
       "    <tr style=\"text-align: right;\">\n",
       "      <th></th>\n",
       "      <th>country_name</th>\n",
       "      <th>country_code</th>\n",
       "      <th>year</th>\n",
       "      <th>continent</th>\n",
       "      <th>world_regions_un_sdg_definition</th>\n",
       "      <th>regime_type_row_measure_definition</th>\n",
       "      <th>population,_total</th>\n",
       "      <th>access_to_electricity_of_population</th>\n",
       "      <th>gdp_current_us</th>\n",
       "      <th>gdp_per_capita_current_us</th>\n",
       "      <th>...</th>\n",
       "      <th>renewable_electricity_output_of_total_electricity_output</th>\n",
       "      <th>women_business_and_the_law_index_score_scale_1-100</th>\n",
       "      <th>proportion_of_seats_held_by_women_in_national_parliaments_</th>\n",
       "      <th>income_classification_world_bank_definition</th>\n",
       "      <th>individuals_using_the_internet_of_population</th>\n",
       "      <th>power_soec</th>\n",
       "      <th>power_f</th>\n",
       "      <th>suffrage_f</th>\n",
       "      <th>dmr_f</th>\n",
       "      <th>gini_index_world_bank_estimate</th>\n",
       "    </tr>\n",
       "  </thead>\n",
       "  <tbody>\n",
       "    <tr>\n",
       "      <th>2945</th>\n",
       "      <td>Timor-Leste</td>\n",
       "      <td>TLS</td>\n",
       "      <td>2000</td>\n",
       "      <td>Asia</td>\n",
       "      <td>NaN</td>\n",
       "      <td>NaN</td>\n",
       "      <td>NaN</td>\n",
       "      <td>NaN</td>\n",
       "      <td>367087900.0</td>\n",
       "      <td>415.085949</td>\n",
       "      <td>...</td>\n",
       "      <td>0.0</td>\n",
       "      <td>40.625</td>\n",
       "      <td>NaN</td>\n",
       "      <td>NaN</td>\n",
       "      <td>NaN</td>\n",
       "      <td>-0.200</td>\n",
       "      <td>-0.009</td>\n",
       "      <td>0.0</td>\n",
       "      <td>1.49</td>\n",
       "      <td>NaN</td>\n",
       "    </tr>\n",
       "    <tr>\n",
       "      <th>2946</th>\n",
       "      <td>Timor-Leste</td>\n",
       "      <td>TLS</td>\n",
       "      <td>2001</td>\n",
       "      <td>Asia</td>\n",
       "      <td>NaN</td>\n",
       "      <td>NaN</td>\n",
       "      <td>NaN</td>\n",
       "      <td>25.6</td>\n",
       "      <td>477457500.0</td>\n",
       "      <td>529.793700</td>\n",
       "      <td>...</td>\n",
       "      <td>0.0</td>\n",
       "      <td>40.625</td>\n",
       "      <td>NaN</td>\n",
       "      <td>NaN</td>\n",
       "      <td>NaN</td>\n",
       "      <td>0.314</td>\n",
       "      <td>0.362</td>\n",
       "      <td>0.0</td>\n",
       "      <td>1.49</td>\n",
       "      <td>NaN</td>\n",
       "    </tr>\n",
       "  </tbody>\n",
       "</table>\n",
       "<p>2 rows × 21 columns</p>\n",
       "</div>"
      ],
      "text/plain": [
       "     country_name country_code  year continent  \\\n",
       "2945  Timor-Leste          TLS  2000      Asia   \n",
       "2946  Timor-Leste          TLS  2001      Asia   \n",
       "\n",
       "     world_regions_un_sdg_definition regime_type_row_measure_definition  \\\n",
       "2945                             NaN                                NaN   \n",
       "2946                             NaN                                NaN   \n",
       "\n",
       "      population,_total  access_to_electricity_of_population  gdp_current_us  \\\n",
       "2945                NaN                                  NaN     367087900.0   \n",
       "2946                NaN                                 25.6     477457500.0   \n",
       "\n",
       "      gdp_per_capita_current_us  ...  \\\n",
       "2945                 415.085949  ...   \n",
       "2946                 529.793700  ...   \n",
       "\n",
       "      renewable_electricity_output_of_total_electricity_output  \\\n",
       "2945                                                0.0          \n",
       "2946                                                0.0          \n",
       "\n",
       "      women_business_and_the_law_index_score_scale_1-100  \\\n",
       "2945                                             40.625    \n",
       "2946                                             40.625    \n",
       "\n",
       "      proportion_of_seats_held_by_women_in_national_parliaments_  \\\n",
       "2945                                                NaN            \n",
       "2946                                                NaN            \n",
       "\n",
       "      income_classification_world_bank_definition  \\\n",
       "2945                                          NaN   \n",
       "2946                                          NaN   \n",
       "\n",
       "     individuals_using_the_internet_of_population  power_soec  power_f  \\\n",
       "2945                                          NaN      -0.200   -0.009   \n",
       "2946                                          NaN       0.314    0.362   \n",
       "\n",
       "      suffrage_f  dmr_f  gini_index_world_bank_estimate  \n",
       "2945         0.0   1.49                             NaN  \n",
       "2946         0.0   1.49                             NaN  \n",
       "\n",
       "[2 rows x 21 columns]"
      ]
     },
     "execution_count": 69,
     "metadata": {},
     "output_type": "execute_result"
    }
   ],
   "source": [
    "df[df.world_regions_un_sdg_definition.isnull()]"
   ]
  },
  {
   "cell_type": "code",
   "execution_count": 70,
   "metadata": {},
   "outputs": [
    {
     "data": {
      "text/plain": [
       "2945                               NaN\n",
       "2946                               NaN\n",
       "2947    Eastern and South-Eastern Asia\n",
       "2948    Eastern and South-Eastern Asia\n",
       "2949    Eastern and South-Eastern Asia\n",
       "2950    Eastern and South-Eastern Asia\n",
       "2951    Eastern and South-Eastern Asia\n",
       "2952    Eastern and South-Eastern Asia\n",
       "2953    Eastern and South-Eastern Asia\n",
       "2954    Eastern and South-Eastern Asia\n",
       "2955    Eastern and South-Eastern Asia\n",
       "2956    Eastern and South-Eastern Asia\n",
       "2957    Eastern and South-Eastern Asia\n",
       "2958    Eastern and South-Eastern Asia\n",
       "2959    Eastern and South-Eastern Asia\n",
       "2960    Eastern and South-Eastern Asia\n",
       "2961    Eastern and South-Eastern Asia\n",
       "2962    Eastern and South-Eastern Asia\n",
       "2963    Eastern and South-Eastern Asia\n",
       "Name: world_regions_un_sdg_definition, dtype: object"
      ]
     },
     "execution_count": 70,
     "metadata": {},
     "output_type": "execute_result"
    }
   ],
   "source": [
    "# Check for correct region\n",
    "df[df['country_name'] == 'Timor-Leste']['world_regions_un_sdg_definition']"
   ]
  },
  {
   "cell_type": "code",
   "execution_count": 71,
   "metadata": {},
   "outputs": [],
   "source": [
    "# Fill nulls in world region\n",
    "df.world_regions_un_sdg_definition.fillna('Eastern and South-Eastern Asia', inplace=True)"
   ]
  },
  {
   "cell_type": "code",
   "execution_count": 79,
   "metadata": {},
   "outputs": [
    {
     "data": {
      "text/plain": [
       "array(['Aruba', 'Antigua and Barbuda', 'Bahamas, The', 'Belize',\n",
       "       'Brunei Darussalam', 'Dominica', 'St. Lucia', 'Macao SAR, China',\n",
       "       'West Bank and Gaza', 'Timor-Leste', 'Tonga',\n",
       "       'St. Vincent and the Grenadines'], dtype=object)"
      ]
     },
     "execution_count": 79,
     "metadata": {},
     "output_type": "execute_result"
    }
   ],
   "source": [
    "# Check which countries have nulls\n",
    "df[df.regime_type_row_measure_definition.isnull()]['country_name'].unique()"
   ]
  },
  {
   "cell_type": "code",
   "execution_count": 77,
   "metadata": {},
   "outputs": [
    {
     "data": {
      "text/plain": [
       "array([nan, 'Closed Autocracy', 'Electoral Autocracy',\n",
       "       'Electoral Democracy', 'Liberal Democracy'], dtype=object)"
      ]
     },
     "execution_count": 77,
     "metadata": {},
     "output_type": "execute_result"
    }
   ],
   "source": [
    "# Check unique values for this column\n",
    "df.regime_type_row_measure_definition.unique()"
   ]
  },
  {
   "cell_type": "code",
   "execution_count": 82,
   "metadata": {},
   "outputs": [
    {
     "name": "stderr",
     "output_type": "stream",
     "text": [
      "C:\\Users\\Yasmin\\anaconda3\\envs\\playground\\lib\\site-packages\\pandas\\core\\generic.py:6392: SettingWithCopyWarning: \n",
      "A value is trying to be set on a copy of a slice from a DataFrame\n",
      "\n",
      "See the caveats in the documentation: https://pandas.pydata.org/pandas-docs/stable/user_guide/indexing.html#returning-a-view-versus-a-copy\n",
      "  return self._update_inplace(result)\n"
     ]
    }
   ],
   "source": [
    "# Fill nulls in regime\n",
    "df[df['country_name'] == 'Antigua and Barbuda']['regime_type_row_measure_definition'].fillna('Electoral Democracy')"
   ]
  },
  {
   "cell_type": "code",
   "execution_count": 89,
   "metadata": {},
   "outputs": [
    {
     "name": "stderr",
     "output_type": "stream",
     "text": [
      "C:\\Users\\Yasmin\\AppData\\Local\\Temp/ipykernel_24872/1381339716.py:1: SettingWithCopyWarning: \n",
      "A value is trying to be set on a copy of a slice from a DataFrame.\n",
      "Try using .loc[row_indexer,col_indexer] = value instead\n",
      "\n",
      "See the caveats in the documentation: https://pandas.pydata.org/pandas-docs/stable/user_guide/indexing.html#returning-a-view-versus-a-copy\n",
      "  df[df['country_name'] == 'Antigua and Barbuda']['regime_type_row_measure_definition'] = np.where((df[df['country_name'] == 'Antigua and Barbuda']['regime_type_row_measure_definition'].isnull()), 'Electoral Democracy', '')\n"
     ]
    }
   ],
   "source": [
    "np.where((df[df['country_name'] == 'Antigua and Barbuda']['regime_type_row_measure_definition'].isnull()), 'Electoral Democracy', '',)"
   ]
  },
  {
   "cell_type": "code",
   "execution_count": null,
   "metadata": {},
   "outputs": [],
   "source": []
  }
 ],
 "metadata": {
  "interpreter": {
   "hash": "c37dafaa9f79b1fcde4a2b4e9bf1bbb628a7eae972c0fc5b5def4c97ee839a44"
  },
  "kernelspec": {
   "display_name": "Python 3.8.12 64-bit ('playground': conda)",
   "language": "python",
   "name": "python3"
  },
  "language_info": {
   "codemirror_mode": {
    "name": "ipython",
    "version": 3
   },
   "file_extension": ".py",
   "mimetype": "text/x-python",
   "name": "python",
   "nbconvert_exporter": "python",
   "pygments_lexer": "ipython3",
   "version": "3.8.12"
  },
  "orig_nbformat": 4
 },
 "nbformat": 4,
 "nbformat_minor": 2
}
